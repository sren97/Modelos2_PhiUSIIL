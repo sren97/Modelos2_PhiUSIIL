{
  "nbformat": 4,
  "nbformat_minor": 0,
  "metadata": {
    "colab": {
      "provenance": [],
      "authorship_tag": "ABX9TyOhlSGwNGOOdLz+3kYIOqm3",
      "include_colab_link": true
    },
    "kernelspec": {
      "name": "python3",
      "display_name": "Python 3"
    },
    "language_info": {
      "name": "python"
    }
  },
  "cells": [
    {
      "cell_type": "markdown",
      "metadata": {
        "id": "view-in-github",
        "colab_type": "text"
      },
      "source": [
        "<a href=\"https://colab.research.google.com/github/sren97/Modelos2_PhiUSIIL/blob/main/Proyecto_Modelos_2_PhiUSIIL.ipynb\" target=\"_parent\"><img src=\"https://colab.research.google.com/assets/colab-badge.svg\" alt=\"Open In Colab\"/></a>"
      ]
    },
    {
      "cell_type": "markdown",
      "source": [
        "# Descarga de la base de datos"
      ],
      "metadata": {
        "id": "vbcqRBd3-BIn"
      }
    },
    {
      "cell_type": "code",
      "execution_count": 2,
      "metadata": {
        "colab": {
          "base_uri": "https://localhost:8080/"
        },
        "id": "1kpuoNdP_vjf",
        "outputId": "af56e570-b761-4559-fdfb-e3b522219359"
      },
      "outputs": [
        {
          "output_type": "stream",
          "name": "stdout",
          "text": [
            "Collecting ucimlrepo\n",
            "  Downloading ucimlrepo-0.0.7-py3-none-any.whl.metadata (5.5 kB)\n",
            "Requirement already satisfied: pandas>=1.0.0 in /usr/local/lib/python3.12/dist-packages (from ucimlrepo) (2.2.2)\n",
            "Requirement already satisfied: certifi>=2020.12.5 in /usr/local/lib/python3.12/dist-packages (from ucimlrepo) (2025.10.5)\n",
            "Requirement already satisfied: numpy>=1.26.0 in /usr/local/lib/python3.12/dist-packages (from pandas>=1.0.0->ucimlrepo) (2.0.2)\n",
            "Requirement already satisfied: python-dateutil>=2.8.2 in /usr/local/lib/python3.12/dist-packages (from pandas>=1.0.0->ucimlrepo) (2.9.0.post0)\n",
            "Requirement already satisfied: pytz>=2020.1 in /usr/local/lib/python3.12/dist-packages (from pandas>=1.0.0->ucimlrepo) (2025.2)\n",
            "Requirement already satisfied: tzdata>=2022.7 in /usr/local/lib/python3.12/dist-packages (from pandas>=1.0.0->ucimlrepo) (2025.2)\n",
            "Requirement already satisfied: six>=1.5 in /usr/local/lib/python3.12/dist-packages (from python-dateutil>=2.8.2->pandas>=1.0.0->ucimlrepo) (1.17.0)\n",
            "Downloading ucimlrepo-0.0.7-py3-none-any.whl (8.0 kB)\n",
            "Installing collected packages: ucimlrepo\n",
            "Successfully installed ucimlrepo-0.0.7\n"
          ]
        }
      ],
      "source": [
        "pip install ucimlrepo"
      ]
    },
    {
      "cell_type": "code",
      "source": [
        "from ucimlrepo import fetch_ucirepo\n",
        "\n",
        "# fetch dataset\n",
        "phiusiil_phishing_url_website = fetch_ucirepo(id=967)\n",
        "\n",
        "# data (as pandas dataframes)\n",
        "data = phiusiil_phishing_url_website.data.original\n",
        "features = phiusiil_phishing_url_website.data.features\n",
        "target = phiusiil_phishing_url_website.data.targets\n",
        "\n"
      ],
      "metadata": {
        "id": "vWimOVgM_ykh"
      },
      "execution_count": 3,
      "outputs": []
    },
    {
      "cell_type": "markdown",
      "source": [
        "# 1.   Descripción del problema\n",
        "\n",
        "\n"
      ],
      "metadata": {
        "id": "t9jwkept-L7G"
      }
    },
    {
      "cell_type": "markdown",
      "source": [
        "## **A. Contexto y utilidad del problema**"
      ],
      "metadata": {
        "id": "lZ5QBThkn3RD"
      }
    },
    {
      "cell_type": "markdown",
      "source": [
        "La detección de sitios *phishing* es un problema central dentro del ámbito de la seguridad informática, ya que millones de usuarios son víctimas cada año de páginas falsas que suplantan sitios legítimos.  \n",
        "El conjunto **PhiUSIIL Phishing URL Dataset** fue creado con el propósito de ofrecer una base estandarizada para entrenar y evaluar modelos de detección automática de phishing. Este dataset integra características **léxicas, de contenido y de red**, lo que permite a los algoritmos aprender patrones que distinguen una URL real de una fraudulenta.  \n",
        "\n",
        "Automatizar este proceso mediante *Machine Learning* permite **reducir el tiempo de respuesta ante amenazas**, detectar ataques desconocidos (*zero-day attacks*) y complementar las soluciones basadas en listas negras, que suelen quedar obsoletas con rapidez.  \n",
        "Debido a su estructura limpia y su número elevado de registros, el dataset PhiUSIIL se ha convertido en una referencia para estudios de detección de phishing con modelos de *Machine Learning* y *Deep Learning*.\n"
      ],
      "metadata": {
        "id": "WMBYDTjHmXNF"
      }
    },
    {
      "cell_type": "markdown",
      "source": [
        "## B. Caracterización del conjunto de datos"
      ],
      "metadata": {
        "id": "8g8PbYjTgRk6"
      }
    },
    {
      "cell_type": "code",
      "source": [
        "# metadata\n",
        "print(phiusiil_phishing_url_website.metadata)\n",
        "\n",
        "# variable information\n",
        "data.info()\n",
        "\n"
      ],
      "metadata": {
        "colab": {
          "base_uri": "https://localhost:8080/"
        },
        "id": "plsZdtFKoI5K",
        "outputId": "c7b7bbaf-0d6f-4215-8b3b-13753de010fb"
      },
      "execution_count": null,
      "outputs": [
        {
          "output_type": "stream",
          "name": "stdout",
          "text": [
            "{'uci_id': 967, 'name': 'PhiUSIIL Phishing URL (Website)', 'repository_url': 'https://archive.ics.uci.edu/dataset/967/phiusiil+phishing+url+dataset', 'data_url': 'https://archive.ics.uci.edu/static/public/967/data.csv', 'abstract': 'PhiUSIIL Phishing URL Dataset is a substantial dataset comprising 134,850 legitimate and 100,945 phishing URLs. Most of the URLs we analyzed, while constructing the dataset, are the latest URLs. Features are extracted from the source code of the webpage and URL. Features such as CharContinuationRate, URLTitleMatchScore, URLCharProb, and TLDLegitimateProb are derived from existing features.', 'area': 'Computer Science', 'tasks': ['Classification'], 'characteristics': ['Tabular'], 'num_instances': 235795, 'num_features': 54, 'feature_types': ['Real', 'Categorical', 'Integer'], 'demographics': [], 'target_col': ['label'], 'index_col': None, 'has_missing_values': 'no', 'missing_values_symbol': None, 'year_of_dataset_creation': 2024, 'last_updated': 'Sun May 12 2024', 'dataset_doi': 'https://doi.org/10.1016/j.cose.2023.103545', 'creators': ['Arvind Prasad', 'Shalini Chandra'], 'intro_paper': {'ID': 411, 'type': 'NATIVE', 'title': 'PhiUSIIL: A diverse security profile empowered phishing URL detection framework based on similarity index and incremental learning', 'authors': 'Arvind Prasad and Shalini Chandra', 'venue': 'Computers & Security', 'year': 2024, 'journal': None, 'DOI': None, 'URL': 'https://doi.org/10.1016/j.cose.2023.103545', 'sha': None, 'corpus': None, 'arxiv': None, 'mag': None, 'acl': None, 'pmid': None, 'pmcid': None}, 'additional_info': {'summary': None, 'purpose': None, 'funded_by': None, 'instances_represent': 'URLs and their corresponding webpages', 'recommended_data_splits': None, 'sensitive_data': None, 'preprocessing_description': None, 'variable_info': 'Column \"FILENAME\" can be ignored.', 'citation': 'Prasad, A., & Chandra, S. (2023). PhiUSIIL: A diverse security profile empowered phishing URL detection framework based on similarity index and incremental learning. Computers & Security, 103545. doi: https://doi.org/10.1016/j.cose.2023.103545'}}\n",
            "<class 'pandas.core.frame.DataFrame'>\n",
            "RangeIndex: 235795 entries, 0 to 235794\n",
            "Data columns (total 56 columns):\n",
            " #   Column                      Non-Null Count   Dtype  \n",
            "---  ------                      --------------   -----  \n",
            " 0   FILENAME                    235795 non-null  object \n",
            " 1   URL                         235795 non-null  object \n",
            " 2   URLLength                   235795 non-null  int64  \n",
            " 3   Domain                      235795 non-null  object \n",
            " 4   DomainLength                235795 non-null  int64  \n",
            " 5   IsDomainIP                  235795 non-null  int64  \n",
            " 6   TLD                         235795 non-null  object \n",
            " 7   URLSimilarityIndex          235795 non-null  float64\n",
            " 8   CharContinuationRate        235795 non-null  float64\n",
            " 9   TLDLegitimateProb           235795 non-null  float64\n",
            " 10  URLCharProb                 235795 non-null  float64\n",
            " 11  TLDLength                   235795 non-null  int64  \n",
            " 12  NoOfSubDomain               235795 non-null  int64  \n",
            " 13  HasObfuscation              235795 non-null  int64  \n",
            " 14  NoOfObfuscatedChar          235795 non-null  int64  \n",
            " 15  ObfuscationRatio            235795 non-null  float64\n",
            " 16  NoOfLettersInURL            235795 non-null  int64  \n",
            " 17  LetterRatioInURL            235795 non-null  float64\n",
            " 18  NoOfDegitsInURL             235795 non-null  int64  \n",
            " 19  DegitRatioInURL             235795 non-null  float64\n",
            " 20  NoOfEqualsInURL             235795 non-null  int64  \n",
            " 21  NoOfQMarkInURL              235795 non-null  int64  \n",
            " 22  NoOfAmpersandInURL          235795 non-null  int64  \n",
            " 23  NoOfOtherSpecialCharsInURL  235795 non-null  int64  \n",
            " 24  SpacialCharRatioInURL       235795 non-null  float64\n",
            " 25  IsHTTPS                     235795 non-null  int64  \n",
            " 26  LineOfCode                  235795 non-null  int64  \n",
            " 27  LargestLineLength           235795 non-null  int64  \n",
            " 28  HasTitle                    235795 non-null  int64  \n",
            " 29  Title                       235795 non-null  object \n",
            " 30  DomainTitleMatchScore       235795 non-null  float64\n",
            " 31  URLTitleMatchScore          235795 non-null  float64\n",
            " 32  HasFavicon                  235795 non-null  int64  \n",
            " 33  Robots                      235795 non-null  int64  \n",
            " 34  IsResponsive                235795 non-null  int64  \n",
            " 35  NoOfURLRedirect             235795 non-null  int64  \n",
            " 36  NoOfSelfRedirect            235795 non-null  int64  \n",
            " 37  HasDescription              235795 non-null  int64  \n",
            " 38  NoOfPopup                   235795 non-null  int64  \n",
            " 39  NoOfiFrame                  235795 non-null  int64  \n",
            " 40  HasExternalFormSubmit       235795 non-null  int64  \n",
            " 41  HasSocialNet                235795 non-null  int64  \n",
            " 42  HasSubmitButton             235795 non-null  int64  \n",
            " 43  HasHiddenFields             235795 non-null  int64  \n",
            " 44  HasPasswordField            235795 non-null  int64  \n",
            " 45  Bank                        235795 non-null  int64  \n",
            " 46  Pay                         235795 non-null  int64  \n",
            " 47  Crypto                      235795 non-null  int64  \n",
            " 48  HasCopyrightInfo            235795 non-null  int64  \n",
            " 49  NoOfImage                   235795 non-null  int64  \n",
            " 50  NoOfCSS                     235795 non-null  int64  \n",
            " 51  NoOfJS                      235795 non-null  int64  \n",
            " 52  NoOfSelfRef                 235795 non-null  int64  \n",
            " 53  NoOfEmptyRef                235795 non-null  int64  \n",
            " 54  NoOfExternalRef             235795 non-null  int64  \n",
            " 55  label                       235795 non-null  int64  \n",
            "dtypes: float64(10), int64(41), object(5)\n",
            "memory usage: 100.7+ MB\n"
          ]
        }
      ]
    },
    {
      "cell_type": "markdown",
      "source": [
        "### Proporción de variables objetivo para submuestreo"
      ],
      "metadata": {
        "id": "7Yss5MmsgvW4"
      }
    },
    {
      "cell_type": "code",
      "source": [
        "target.value_counts()\n",
        "\n"
      ],
      "metadata": {
        "colab": {
          "base_uri": "https://localhost:8080/",
          "height": 178
        },
        "id": "Z17tCXMzdFix",
        "outputId": "41086eca-61c6-4bab-9fd1-a7b3fffb9dda"
      },
      "execution_count": null,
      "outputs": [
        {
          "output_type": "execute_result",
          "data": {
            "text/plain": [
              "label\n",
              "1        134850\n",
              "0        100945\n",
              "Name: count, dtype: int64"
            ],
            "text/html": [
              "<div>\n",
              "<style scoped>\n",
              "    .dataframe tbody tr th:only-of-type {\n",
              "        vertical-align: middle;\n",
              "    }\n",
              "\n",
              "    .dataframe tbody tr th {\n",
              "        vertical-align: top;\n",
              "    }\n",
              "\n",
              "    .dataframe thead th {\n",
              "        text-align: right;\n",
              "    }\n",
              "</style>\n",
              "<table border=\"1\" class=\"dataframe\">\n",
              "  <thead>\n",
              "    <tr style=\"text-align: right;\">\n",
              "      <th></th>\n",
              "      <th>count</th>\n",
              "    </tr>\n",
              "    <tr>\n",
              "      <th>label</th>\n",
              "      <th></th>\n",
              "    </tr>\n",
              "  </thead>\n",
              "  <tbody>\n",
              "    <tr>\n",
              "      <th>1</th>\n",
              "      <td>134850</td>\n",
              "    </tr>\n",
              "    <tr>\n",
              "      <th>0</th>\n",
              "      <td>100945</td>\n",
              "    </tr>\n",
              "  </tbody>\n",
              "</table>\n",
              "</div><br><label><b>dtype:</b> int64</label>"
            ]
          },
          "metadata": {},
          "execution_count": 23
        }
      ]
    },
    {
      "cell_type": "code",
      "source": [
        "target.value_counts(normalize=True)"
      ],
      "metadata": {
        "colab": {
          "base_uri": "https://localhost:8080/",
          "height": 178
        },
        "id": "cdsovEdviD4I",
        "outputId": "5501b2a5-f1ec-464d-f2f9-ff640b491dc1"
      },
      "execution_count": null,
      "outputs": [
        {
          "output_type": "execute_result",
          "data": {
            "text/plain": [
              "label\n",
              "1        0.571895\n",
              "0        0.428105\n",
              "Name: proportion, dtype: float64"
            ],
            "text/html": [
              "<div>\n",
              "<style scoped>\n",
              "    .dataframe tbody tr th:only-of-type {\n",
              "        vertical-align: middle;\n",
              "    }\n",
              "\n",
              "    .dataframe tbody tr th {\n",
              "        vertical-align: top;\n",
              "    }\n",
              "\n",
              "    .dataframe thead th {\n",
              "        text-align: right;\n",
              "    }\n",
              "</style>\n",
              "<table border=\"1\" class=\"dataframe\">\n",
              "  <thead>\n",
              "    <tr style=\"text-align: right;\">\n",
              "      <th></th>\n",
              "      <th>proportion</th>\n",
              "    </tr>\n",
              "    <tr>\n",
              "      <th>label</th>\n",
              "      <th></th>\n",
              "    </tr>\n",
              "  </thead>\n",
              "  <tbody>\n",
              "    <tr>\n",
              "      <th>1</th>\n",
              "      <td>0.571895</td>\n",
              "    </tr>\n",
              "    <tr>\n",
              "      <th>0</th>\n",
              "      <td>0.428105</td>\n",
              "    </tr>\n",
              "  </tbody>\n",
              "</table>\n",
              "</div><br><label><b>dtype:</b> float64</label>"
            ]
          },
          "metadata": {},
          "execution_count": 19
        }
      ]
    },
    {
      "cell_type": "code",
      "source": [],
      "metadata": {
        "id": "RYFTYIb6boNP"
      },
      "execution_count": null,
      "outputs": []
    },
    {
      "cell_type": "markdown",
      "source": [
        "## C. Análisis conjunto de datos"
      ],
      "metadata": {
        "id": "5TIGmcNSpZFF"
      }
    },
    {
      "cell_type": "markdown",
      "source": [
        "El conjunto **PhiUSIIL Phishing URL Dataset** contiene  **235,795 registros**, de los cuales cada uno representa una URL etiquetada como:\n",
        "- **1:** Sitio legítimo  \n",
        "- **0:** Sitio de phishing  \n",
        "\n",
        "Cada registro incluye **54 atributos** que describen propiedades de la URL y de la página web asociada.  \n",
        "Entre las categorías de características más relevantes se encuentran:\n",
        "\n",
        "- **Características léxicas:** longitud de la URL, número de subdominios, presencia de caracteres sospechosos (como “@”, “//”, “-”).  \n",
        "- **Características basadas en contenido HTML:** cantidad de etiquetas `<script>`, `<iframe>`, enlaces externos o formularios.  \n",
        "- **Características derivadas del dominio:** edad del dominio, información del certificado SSL, o coincidencia entre dominio y URL visible.  \n",
        "\n",
        "El dataset fue recopilado a partir de múltiples fuentes y validado manualmente. No contiene valores faltantes significativos y está balanceado entre clases.  \n",
        "Esta estructura lo hace ideal para evaluar distintos algoritmos de clasificación, tales como **Random Forest, SVM, Logistic Regression, XGBoost, LightGBM** o redes neuronales profundas."
      ],
      "metadata": {
        "id": "pl1SICoQmW4m"
      }
    },
    {
      "cell_type": "markdown",
      "source": [
        "## D. Paradigma de aprendizaje y justificación"
      ],
      "metadata": {
        "id": "9MQ2ZdcFmWk9"
      }
    },
    {
      "cell_type": "markdown",
      "source": [
        "El proyecto se enmarca en el **aprendizaje supervisado** con una **tarea de clasificación binaria**, cuyo objetivo es distinguir entre URLs *legítimas* y *maliciosas (phishing)*.  \n",
        "Dado que cada muestra cuenta con una etiqueta previamente asignada (0 o 1), los modelos pueden aprender patrones discriminativos a partir de los atributos descritos.  \n",
        "\n",
        "Las métricas empleadas para la evaluación del rendimiento incluirán:\n",
        "- **Accuracy**\n",
        "- **Precision**\n",
        "- **Recall**\n",
        "- **F1-score**\n",
        "\n",
        "La métrica **F1-score** será especialmente importante para reducir los falsos negativos, es decir, los casos en los que un sitio de phishing se clasifica erróneamente como legítimo.  \n",
        "El uso de este dataset permite comparar diversos modelos de aprendizaje automático con técnicas de optimización y validación cruzada, asegurando una evaluación **rigurosa, reproducible y aplicable a contextos reales de ciberseguridad.**"
      ],
      "metadata": {
        "id": "1p9OiQf-mWau"
      }
    },
    {
      "cell_type": "markdown",
      "source": [
        "# 2.   Estado del arte\n",
        "\n"
      ],
      "metadata": {
        "id": "exZ7VyWj_VCA"
      }
    },
    {
      "cell_type": "markdown",
      "source": [
        "## A. *Vajrobol et al.*\n",
        "\n",
        "1.   *Paradigma de aprendizaje:* Dado que la base de datos PhiUSIIL contiene ejemplos previamente etiquetados como URLs legítimas y URLs maliciosas, los diferentes trabajos abordados están bajo el paradigma de aprendizaje supervisado, en donde el modelo aprende a distinguir entre las clases a partir de las etiquetas proporcionadas.\n",
        "2.   *Técnicas utilizadas:* Se usa la técnica de regresión logística en conjunción con selección de características basada en información mutua, los autores resaltan que la combinación de estas técnicas hacen al modelo simple y eficiente, facilitando su interpretabilidad y manteniendo un equilibrio entre precisión y simplicidad.\n",
        "3. *Metodología de validación aplicada:* Como metodología de validación, se particionó el conjunto de datos a un ratio de 80:20 (train:test)\n",
        "4. *Métricas utilizadas:* el desempeño del modelo fue evaluado mediante las métricas de *Accuracy*, *Precision*, *Recall*, *F1-score*, y se complementó con matrices de confusión.\n",
        "5. *Resultados obtenidos:* En la conclusión llegaron a una *accuracy* del 99.97% alcanzando esos resultados sólo con 5 características: ”URLSimilarityIn-\n",
        "dex,” ”LineOfCode,” ”NoOfExternalRef,” ”NoOfImage,” y ”NoOfSel-\n",
        "fRef.”. Con ello concluyeron que la técnica de selección de características *Mutual Information* en conjunto con la regresión logística puede ser un modelo muy útil, confiable, preciso, y fácil de entender, para tareas de identificar URLs maliciosas."
      ],
      "metadata": {
        "id": "9U2PE4OnT9m4"
      }
    },
    {
      "cell_type": "markdown",
      "source": [
        "## B. *Sruthi K. & Manohar Naik S.*\n",
        "\n",
        "1.   *Paradigma de aprendizaje:* Supervisado, por las mismas razones descritas anteriormente, pues se usó el mismo conjunto de datos.\n",
        "2.   *Técnicas utilizadas:* Se usa una red neuronal siamesa con subredes LSTM, esta red neuronal procesa pares de URLs que, a través de cada subred LSTM generar una representación que se comparará posteriormente mediante una medida de distancia euclidiana, para determinar la similitud entre ellas, de modo que el modelo aprende a reducir la distancia entre pares similares y a aumentarla entre pares disimilares.\n",
        "3.   *Metodología de validación aplicada:* Se empleó la metodología de validación cruzada *5-fold cross-validation*, y fue complementada con estudios de ablación y sensibilidad para medir la estabilidad del modelo.\n",
        "4.   *Métricas utilizadas:* el desempeño del modelo fue evaluado mediante las métricas de *Accuracy*, *Precision*, *Recall*, *F1-score*.\n",
        "5.   *Resultados obtenidos:* en los conjuntos estándar se obtuvo un *accuracy* del 99.68%, y demostró tener un desempeño similar para muestras generadas usando GPT 4.0, demostrando que podría ser una herramienta efectiva para mitigar los ciberataques de phishing basados en IA.\n",
        "\n"
      ],
      "metadata": {
        "id": "NEcK-APheKM1"
      }
    },
    {
      "cell_type": "markdown",
      "source": [
        "## C. *Manguli et al.*\n",
        "\n",
        "1.   *Paradigma de aprendizaje:* Se utilizaron los conjuntos de datos PhishTank para la obtención de URLs maliciosas, y de Alexa para la obtención de URLs legítimas, por lo que corresponde a un problema de aprendizaje supervisado.\n",
        "2.   *Técnicas utilizadas:* Se usa Graph Neural Network (GNN), específicamente el algoritmo GraphSAGE que tiene la capacidad de generalizar a nuevos nodos o grafos no vistos durante el entrenamiento.\n",
        "3.   *Metodología de validación aplicada:* Se empleó la metodología de validación cruzada *5-fold cross-validation*\n",
        "4.   *Métricas utilizadas:* Se evaluó el desempeño mediante las métricas de *Accuracy*, *Precision*, *Recall*, *F1-score* y *AUC-ROC*\n",
        "5.   *Resultados obtenidos:* El modelo GraPhish obtuvo un *accuracy* del 98.96%, por lo que resultó ser una gran alternativa cuando se quiere reducir la dependencia del contenido del mensaje (al usar los paquetes de red encriptados)."
      ],
      "metadata": {
        "id": "POP6dV5CfHnD"
      }
    },
    {
      "cell_type": "markdown",
      "source": [
        "## D. *Fatma Hendaoui & Saloua Hendaoui*\n",
        "\n",
        "1.   *Paradigma de aprendizaje:* Se construye un sistema denominado SENTINEY, que hace uso de técnicas tanto del aprendizaje supervisado (para clasificar correo legítimos vs maliciosos) como del no supervisado (detectar anomalías en los correos).\n",
        "2.   *Técnicas utilizadas:* Isolation Forest, One-Class SVM, Elliptic Envelope, K-Means, DBSCAN, Agglomerative Clustering Algorithms, Birch, GMM, como técnicas no supervisadas; Como técnicas supervisadas MLP, Random Forest,  y Gradient Boosting.\n",
        "3.   *Metodología de validación aplicada:* Por el diseño del sistema (SMPC) no se hizo una validación estadística formal sino que se optó por ejecutar pruebas en entornos controlados y distribuidos en los que se ejecutaban los distintos algoritmos para evaluar simultáneamente los más óptimos en distintas situaciones.\n",
        "4.   *Métricas utilizadas:* el desempeño del sistema fue evaluado mediante las métricas de *Accuracy*, *Precision*, *Recall*, *F1-score*. Adicionalmente midieron el *Average Detection Time*, y *silhouette score* para evaluar el desempeño de los módulos de aprendizaje no supervisado.\n",
        "5.   *Resultados obtenidos:* Se obtuvo una *accuracy* del 99.4% con un *Average Detection Time* de 0.89 segundos por correo. Concluyendo que el módulo con métodos supervisados fue más eficiente para identificar correos de phishing conocidos mientras que el otro módulo fue más eficaz para identificar los *zero-day attacks*"
      ],
      "metadata": {
        "id": "BrYbLru3fJyL"
      }
    }
  ]
}