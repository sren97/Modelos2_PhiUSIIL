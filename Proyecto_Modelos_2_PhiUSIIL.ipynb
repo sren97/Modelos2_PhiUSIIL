{
  "nbformat": 4,
  "nbformat_minor": 0,
  "metadata": {
    "colab": {
      "provenance": [],
      "authorship_tag": "ABX9TyMicx9pCLt7PCEroKhGNGRS",
      "include_colab_link": true
    },
    "kernelspec": {
      "name": "python3",
      "display_name": "Python 3"
    },
    "language_info": {
      "name": "python"
    }
  },
  "cells": [
    {
      "cell_type": "markdown",
      "metadata": {
        "id": "view-in-github",
        "colab_type": "text"
      },
      "source": [
        "<a href=\"https://colab.research.google.com/github/sren97/Modelos2_PhiUSIIL/blob/main/Proyecto_Modelos_2_PhiUSIIL.ipynb\" target=\"_parent\"><img src=\"https://colab.research.google.com/assets/colab-badge.svg\" alt=\"Open In Colab\"/></a>"
      ]
    },
    {
      "cell_type": "markdown",
      "source": [
        "# Importación de dependencias"
      ],
      "metadata": {
        "id": "vbcqRBd3-BIn"
      }
    },
    {
      "cell_type": "code",
      "execution_count": null,
      "metadata": {
        "colab": {
          "base_uri": "https://localhost:8080/"
        },
        "id": "1kpuoNdP_vjf",
        "outputId": "04d81d40-b2fe-46a1-cafa-68e68c1bc7b9"
      },
      "outputs": [
        {
          "output_type": "stream",
          "name": "stdout",
          "text": [
            "Collecting ucimlrepo\n",
            "  Downloading ucimlrepo-0.0.7-py3-none-any.whl.metadata (5.5 kB)\n",
            "Requirement already satisfied: pandas>=1.0.0 in /usr/local/lib/python3.12/dist-packages (from ucimlrepo) (2.2.2)\n",
            "Requirement already satisfied: certifi>=2020.12.5 in /usr/local/lib/python3.12/dist-packages (from ucimlrepo) (2025.10.5)\n",
            "Requirement already satisfied: numpy>=1.26.0 in /usr/local/lib/python3.12/dist-packages (from pandas>=1.0.0->ucimlrepo) (2.0.2)\n",
            "Requirement already satisfied: python-dateutil>=2.8.2 in /usr/local/lib/python3.12/dist-packages (from pandas>=1.0.0->ucimlrepo) (2.9.0.post0)\n",
            "Requirement already satisfied: pytz>=2020.1 in /usr/local/lib/python3.12/dist-packages (from pandas>=1.0.0->ucimlrepo) (2025.2)\n",
            "Requirement already satisfied: tzdata>=2022.7 in /usr/local/lib/python3.12/dist-packages (from pandas>=1.0.0->ucimlrepo) (2025.2)\n",
            "Requirement already satisfied: six>=1.5 in /usr/local/lib/python3.12/dist-packages (from python-dateutil>=2.8.2->pandas>=1.0.0->ucimlrepo) (1.17.0)\n",
            "Downloading ucimlrepo-0.0.7-py3-none-any.whl (8.0 kB)\n",
            "Installing collected packages: ucimlrepo\n",
            "Successfully installed ucimlrepo-0.0.7\n"
          ]
        }
      ],
      "source": [
        "pip install ucimlrepo"
      ]
    },
    {
      "cell_type": "code",
      "source": [
        "from ucimlrepo import fetch_ucirepo\n",
        "\n",
        "# fetch dataset\n",
        "phiusiil_phishing_url_website = fetch_ucirepo(id=967)\n",
        "\n",
        "# data (as pandas dataframes)\n",
        "X = phiusiil_phishing_url_website.data.features\n",
        "y = phiusiil_phishing_url_website.data.targets\n",
        "\n",
        "\n"
      ],
      "metadata": {
        "id": "vWimOVgM_ykh"
      },
      "execution_count": null,
      "outputs": []
    },
    {
      "cell_type": "markdown",
      "source": [
        "# 1.   Descripción del problema\n",
        "\n",
        "\n"
      ],
      "metadata": {
        "id": "t9jwkept-L7G"
      }
    },
    {
      "cell_type": "markdown",
      "source": [
        "La primera parte del informe está destinada a realizar una descripción del problema, llevar a cabo un análisis exploratorio de los datos que permita comprender cómo está compuesta la base de datos y definir la aproximación que, desde el punto de vista de Machine Learning (ML), será seguida por el equipo para la solución del problema. Todos los informes deben contener:\n",
        "\n",
        "Una descripción clara del contexto del problema, en la que se refleje la utilidad de desarrollar una solución basada en ML para abordar dicho desafío.\n",
        "\n",
        "Una descripción detallada de la composición de la base de datos, incluyendo (pero no limitándose a): el número de muestras, el número de variables, el significado de cada una, la existencia de datos faltantes y, en caso de haberlos, la estrategia de imputación utilizada. Además, se debe especificar claramente el tipo de codificación aplicado a las distintas variables del problema.\n",
        "\n",
        "El tipo de configuración o paradigma de aprendizaje que el equipo de trabajo ha considerado más adecuado para abordar el problema, junto con una justificación clara de dicha elección."
      ],
      "metadata": {
        "id": "AJ5d8phs-rp2"
      }
    },
    {
      "cell_type": "code",
      "source": [
        "# metadata\n",
        "print(phiusiil_phishing_url_website.metadata)\n",
        "\n",
        "# variable information\n",
        "print(phiusiil_phishing_url_website.variables)"
      ],
      "metadata": {
        "colab": {
          "base_uri": "https://localhost:8080/"
        },
        "id": "6NxY0wAAAZiH",
        "outputId": "72cf4c18-d3ed-419f-f7ef-b232c86d1cd6"
      },
      "execution_count": null,
      "outputs": [
        {
          "output_type": "stream",
          "name": "stdout",
          "text": [
            "{'uci_id': 967, 'name': 'PhiUSIIL Phishing URL (Website)', 'repository_url': 'https://archive.ics.uci.edu/dataset/967/phiusiil+phishing+url+dataset', 'data_url': 'https://archive.ics.uci.edu/static/public/967/data.csv', 'abstract': 'PhiUSIIL Phishing URL Dataset is a substantial dataset comprising 134,850 legitimate and 100,945 phishing URLs. Most of the URLs we analyzed, while constructing the dataset, are the latest URLs. Features are extracted from the source code of the webpage and URL. Features such as CharContinuationRate, URLTitleMatchScore, URLCharProb, and TLDLegitimateProb are derived from existing features.', 'area': 'Computer Science', 'tasks': ['Classification'], 'characteristics': ['Tabular'], 'num_instances': 235795, 'num_features': 54, 'feature_types': ['Real', 'Categorical', 'Integer'], 'demographics': [], 'target_col': ['label'], 'index_col': None, 'has_missing_values': 'no', 'missing_values_symbol': None, 'year_of_dataset_creation': 2024, 'last_updated': 'Sun May 12 2024', 'dataset_doi': 'https://doi.org/10.1016/j.cose.2023.103545', 'creators': ['Arvind Prasad', 'Shalini Chandra'], 'intro_paper': {'ID': 411, 'type': 'NATIVE', 'title': 'PhiUSIIL: A diverse security profile empowered phishing URL detection framework based on similarity index and incremental learning', 'authors': 'Arvind Prasad and Shalini Chandra', 'venue': 'Computers & Security', 'year': 2024, 'journal': None, 'DOI': None, 'URL': 'https://doi.org/10.1016/j.cose.2023.103545', 'sha': None, 'corpus': None, 'arxiv': None, 'mag': None, 'acl': None, 'pmid': None, 'pmcid': None}, 'additional_info': {'summary': None, 'purpose': None, 'funded_by': None, 'instances_represent': 'URLs and their corresponding webpages', 'recommended_data_splits': None, 'sensitive_data': None, 'preprocessing_description': None, 'variable_info': 'Column \"FILENAME\" can be ignored.', 'citation': 'Prasad, A., & Chandra, S. (2023). PhiUSIIL: A diverse security profile empowered phishing URL detection framework based on similarity index and incremental learning. Computers & Security, 103545. doi: https://doi.org/10.1016/j.cose.2023.103545'}}\n",
            "                          name     role         type demographic description  \\\n",
            "0                     FILENAME    Other  Categorical        None        None   \n",
            "1                          URL  Feature  Categorical        None        None   \n",
            "2                    URLLength  Feature      Integer        None        None   \n",
            "3                       Domain  Feature  Categorical        None        None   \n",
            "4                 DomainLength  Feature      Integer        None        None   \n",
            "5                   IsDomainIP  Feature      Integer        None        None   \n",
            "6                          TLD  Feature  Categorical        None        None   \n",
            "7           URLSimilarityIndex  Feature      Integer        None        None   \n",
            "8         CharContinuationRate  Feature      Integer        None        None   \n",
            "9            TLDLegitimateProb  Feature   Continuous        None        None   \n",
            "10                 URLCharProb  Feature   Continuous        None        None   \n",
            "11                   TLDLength  Feature      Integer        None        None   \n",
            "12               NoOfSubDomain  Feature      Integer        None        None   \n",
            "13              HasObfuscation  Feature      Integer        None        None   \n",
            "14          NoOfObfuscatedChar  Feature      Integer        None        None   \n",
            "15            ObfuscationRatio  Feature      Integer        None        None   \n",
            "16            NoOfLettersInURL  Feature      Integer        None        None   \n",
            "17            LetterRatioInURL  Feature   Continuous        None        None   \n",
            "18             NoOfDegitsInURL  Feature      Integer        None        None   \n",
            "19             DegitRatioInURL  Feature      Integer        None        None   \n",
            "20             NoOfEqualsInURL  Feature      Integer        None        None   \n",
            "21              NoOfQMarkInURL  Feature      Integer        None        None   \n",
            "22          NoOfAmpersandInURL  Feature      Integer        None        None   \n",
            "23  NoOfOtherSpecialCharsInURL  Feature      Integer        None        None   \n",
            "24       SpacialCharRatioInURL  Feature   Continuous        None        None   \n",
            "25                     IsHTTPS  Feature      Integer        None        None   \n",
            "26                  LineOfCode  Feature      Integer        None        None   \n",
            "27           LargestLineLength  Feature      Integer        None        None   \n",
            "28                    HasTitle  Feature      Integer        None        None   \n",
            "29                       Title  Feature  Categorical        None        None   \n",
            "30       DomainTitleMatchScore  Feature      Integer        None        None   \n",
            "31          URLTitleMatchScore  Feature      Integer        None        None   \n",
            "32                  HasFavicon  Feature      Integer        None        None   \n",
            "33                      Robots  Feature      Integer        None        None   \n",
            "34                IsResponsive  Feature      Integer        None        None   \n",
            "35             NoOfURLRedirect  Feature      Integer        None        None   \n",
            "36            NoOfSelfRedirect  Feature      Integer        None        None   \n",
            "37              HasDescription  Feature      Integer        None        None   \n",
            "38                   NoOfPopup  Feature      Integer        None        None   \n",
            "39                  NoOfiFrame  Feature      Integer        None        None   \n",
            "40       HasExternalFormSubmit  Feature      Integer        None        None   \n",
            "41                HasSocialNet  Feature      Integer        None        None   \n",
            "42             HasSubmitButton  Feature      Integer        None        None   \n",
            "43             HasHiddenFields  Feature      Integer        None        None   \n",
            "44            HasPasswordField  Feature      Integer        None        None   \n",
            "45                        Bank  Feature      Integer        None        None   \n",
            "46                         Pay  Feature      Integer        None        None   \n",
            "47                      Crypto  Feature      Integer        None        None   \n",
            "48            HasCopyrightInfo  Feature      Integer        None        None   \n",
            "49                   NoOfImage  Feature      Integer        None        None   \n",
            "50                     NoOfCSS  Feature      Integer        None        None   \n",
            "51                      NoOfJS  Feature      Integer        None        None   \n",
            "52                 NoOfSelfRef  Feature      Integer        None        None   \n",
            "53                NoOfEmptyRef  Feature      Integer        None        None   \n",
            "54             NoOfExternalRef  Feature      Integer        None        None   \n",
            "55                       label   Target      Integer        None        None   \n",
            "\n",
            "   units missing_values  \n",
            "0   None             no  \n",
            "1   None             no  \n",
            "2   None             no  \n",
            "3   None             no  \n",
            "4   None             no  \n",
            "5   None             no  \n",
            "6   None             no  \n",
            "7   None             no  \n",
            "8   None             no  \n",
            "9   None             no  \n",
            "10  None             no  \n",
            "11  None             no  \n",
            "12  None             no  \n",
            "13  None             no  \n",
            "14  None             no  \n",
            "15  None             no  \n",
            "16  None             no  \n",
            "17  None             no  \n",
            "18  None             no  \n",
            "19  None             no  \n",
            "20  None             no  \n",
            "21  None             no  \n",
            "22  None             no  \n",
            "23  None             no  \n",
            "24  None             no  \n",
            "25  None             no  \n",
            "26  None             no  \n",
            "27  None             no  \n",
            "28  None             no  \n",
            "29  None             no  \n",
            "30  None             no  \n",
            "31  None             no  \n",
            "32  None             no  \n",
            "33  None             no  \n",
            "34  None             no  \n",
            "35  None             no  \n",
            "36  None             no  \n",
            "37  None             no  \n",
            "38  None             no  \n",
            "39  None             no  \n",
            "40  None             no  \n",
            "41  None             no  \n",
            "42  None             no  \n",
            "43  None             no  \n",
            "44  None             no  \n",
            "45  None             no  \n",
            "46  None             no  \n",
            "47  None             no  \n",
            "48  None             no  \n",
            "49  None             no  \n",
            "50  None             no  \n",
            "51  None             no  \n",
            "52  None             no  \n",
            "53  None             no  \n",
            "54  None             no  \n",
            "55  None             no  \n"
          ]
        }
      ]
    },
    {
      "cell_type": "markdown",
      "source": [
        "# 2.   Estado del arte\n",
        "\n"
      ],
      "metadata": {
        "id": "exZ7VyWj_VCA"
      }
    },
    {
      "cell_type": "markdown",
      "source": [
        "El propósito fundamental de esta fase del proyecto es que los grupos de trabajo revisen literatura especializada en el campo del Machine Learning (ML), en la que se presenten soluciones a problemas similares al descrito en la sección 2.\n",
        "\n",
        "4. Realice una búsqueda de al menos cuatro artículos que hayan abordado el mismo problema que ustedes están trabajando. Incluya, en la medida de lo posible, trabajos que hayan empleado la misma base de datos. Para cada artículo, describa brevemente:\n",
        "\n",
        "¿Qué configuración o paradigma de aprendizaje se utiliza en el trabajo?\n",
        "\n",
        "¿Qué técnica(s) de aprendizaje emplean los autores para solucionar el problema planteado?\n",
        "\n",
        "¿Qué metodología de validación se aplicó?\n",
        "\n",
        "¿Cuáles fueron las métricas utilizadas para evaluar el desempeño del sistema? En caso de que alguna métrica no haya sido vista en clase, se debe explicar en qué consiste y presentar su definición matemática.\n",
        "\n",
        "¿Cuáles fueron los resultados obtenidos en cada uno de los trabajos citados?\n",
        "\n",
        "Se recomienda buscar artículos en las bases de datos Elsevier y IEEE. También se pueden consultar trabajos en Springer Nature, aunque se debe tener en cuenta que el acceso institucional a esta base es más limitado. Se sugiere incluir preferiblemente artículos publicados en revistas científicas, no en congresos o conferencias. Además, se recomienda utilizar el buscador Google Scholar para encontrar artículos que hayan citado la base de datos seleccionada.\n",
        "\n",
        "Nota: No utilice más de una página del informe para esta descripción."
      ],
      "metadata": {
        "id": "r4GUav81_aVY"
      }
    },
    {
      "cell_type": "markdown",
      "source": [
        "# A. *Vajrobol et al.*\n",
        "\n",
        "1.   *Paradigma de aprendizaje:* Dado que la base de datos PhiUSIIL contiene ejemplos previamente etiquetados como URLs legítimas y URLs maliciosas, los diferentes trabajo abordados están bajo el paradigma de aprendizaje supervisado, en donde el modelos prende a distinguir entre las clases a partir de las etiquetas proporcionadas.\n",
        "2.   *Técnicas utilizadas:* Se usa la técnica de regresión logística en conjunción con selección de caracterísitcas basada en información mutua, por 3 motivos principales; Su interpretabilidad y transparencia, con el fin de identificar qué atributos de las URLs influuyen más en el phishing; Su Simplicidad computacional y eficiencia, ideal para ejecutar implementaciones prácticas en entornos con recursos limitados; Y su compatibilidad con la selecciones de caracterísiticas basadas en información mutua, ya que esta técnica permite reducir el conjuntos de variables para usar las que sean más informativas, de modo que con la regresión logísitca se consigue un equilibrio entre precisión y simplicidad.\n",
        "3. *Metodología de validación aplicada:* Como metodología de validación, se particionó el conjunto de datos a un ratio de 80:20 (train:test)\n",
        "4. *Métricas utilizadas:* el desempeño del modelo fue evaluado mediante las métricas de *Accuracy*, *Precision*, *Recall*, *F1-score*, y se complementó con matrices de confusión.\n",
        "5. *Resultados obtenidos:* En la conclusión llegaron a una *accuracy* del 99.97% alcanzando esos resultados sólo con 5 caracterísiticas: ”URLSimilarityIn-\n",
        "dex,” ”LineOfCode,” ”NoOfExternalRef,” ”NoOfImage,” y ”NoOfSel-\n",
        "fRef.”. Con ello concluyeron que la técnica de selección de características *Mutual Information* en conjunto con la regresión logística puede ser un modelos muy útil, confiable, preciso, y fácil de entender, para tareas de encontrar URLs maliciosas."
      ],
      "metadata": {
        "id": "9U2PE4OnT9m4"
      }
    },
    {
      "cell_type": "markdown",
      "source": [
        "# B. *Sruthi K. & Manohar Naik S.*\n",
        "\n",
        "1.   *Paradigma de aprendizaje:* Supervisado, por las misma razones descritas anteriormente.\n",
        "2.   *Técnicas utilizadas:* se usa una red neuronal siamesa con subredes LSTM, esta red neuronal procesa pares de URLs para a través de cada subred LSTM generar una representación que se comparará posteriormente mediante una medida de distancia euclidiana, para determinar la similitud entre ellas, de modo que el modelo aprende a reducir la distancia entre pares similares y a aumentarla entre pares disimilares.\n",
        "1.   *Metodología de validación aplicada:* Se empleó la metodología de validación cruzada *5-fold cross-validation*, y fue complementada con estudios de ablación y sensibilidad para medir la estabilidad del modelo.\n",
        "3.   *Métricas utilizadas:* el desempeño del modelo fue evaluado mediante las métricas de *Accuracy*, *Precision*, *Recall*, *F1-score*.\n",
        "4.   *Resultados obtenidos:* en los conjutos estándar se obtuvo un *accuracy* del 99.68%, y demostró tener un desempeño similar para muestras generadas usando GPT 4.0, demostrando que podría ser una herramienta efectiva para mitigar los ciberataques basados en IA.\n",
        "\n"
      ],
      "metadata": {
        "id": "NEcK-APheKM1"
      }
    },
    {
      "cell_type": "markdown",
      "source": [
        "# C. *Manguli et al.*\n",
        "\n",
        "1.   *Paradigma de aprendizaje:* Se hace uso de PhishTank para la obtención de URLs maliciosas, y de Alexa para la obtención de URLs legítimas, por lo que corresponde a un problema de aprendizaje supervisado.\n",
        "2.   *Técnicas utilizadas:* Se usa Graph Neural Network (GNN), específicamente el algoritmo GraphSAGE que tiene la capacidad de generalizar a nuevos nodos o grafos no vistos durane el entrenamiento.\n",
        "3.   *Metodología de validación aplicada:* Se empleó la metodología de validación cruzada *5-fold cross-validation*\n",
        "4.   *Métricas utilizadas:* Se evaluó el desemepeño mediante las métricas de *Accuracy*, *Precision*, *Recall*, *F1-score* y *AUC*\n",
        "5.   *Resultados obtenidos:* El modelo GraPhish obtuvo un *accuracy* del 98.96%, se considero una gran alternativa cuando se quiere reducir la dependencia del contenido del mensaje (al usar los paquetes de red encriptados)."
      ],
      "metadata": {
        "id": "POP6dV5CfHnD"
      }
    },
    {
      "cell_type": "markdown",
      "source": [
        "# D. *Fatma Hendaoui & Saloua Hendaoui*\n",
        "\n",
        "1.   *Paradigma de aprendizaje:* Se construye un sistema denominado SENTINEY, que hace uso de técnicas tanto del aprendizaje supervisado (para clasificar correo legítimo vs malicioso) como del no supervisado (detectar anomalías en los correos).\n",
        "2.   *Técnicas utilizadas:* Isolation Forest, One-Class SVM, Elliptic Envelope , K-Means, DBSCAN, Agglomerative Cluestering Algorithms, Birch, GMM, como técnicas no supervisadas; Como técnias supervisadas MLP, Random Forest,  y Gradient Boosting.\n",
        "3.   *Metodología de validación aplicada:* Por el diseño del sistema (SMPC) no se hizo una validación estadística formal si no que se optó por ejecutar pruebas en entornos controlados y distribuidos en los que ejecutaban los distintos algoritmos para evaluar simultáneamente los más óptimos en distintas situaciones.\n",
        "4.   *Métricas utilizadas:* el desempeño del modelo fue evaluado mediante las métricas de *Accuracy*, *Precision*, *Recall*, *F1-score*. Adicionalmente midieron el *Average Detection Time*, y *silhouette score* para evaluar el desempeño de los módulos de aprendizaje no supervisado.\n",
        "5.   *Resultados obtenidos:* en promedio se obtuvo una *accuracy* del 99.4% con un *Average Detection Time* de 0.89 por correo. Concluyendo que el módulo con métodos supervisados fue mejor para identificar correos de phishing conocidos mientras que el otro módulo fue mejor para identificar los de *zero-day attacks*"
      ],
      "metadata": {
        "id": "BrYbLru3fJyL"
      }
    }
  ]
}